


import pandas as pd


df = pd.read_csv("results/evaluation_scores.csv")


df


identicals = []
for i, row in df.iterrows():
    if len(
        set(
            [row["summary_by_SmolLM2-360M-Instruct-summarizer"], 
             row["summary_by_SmolLM2-360M-Instruct"], 
             row["summary_by_SmolLM2-1.7B-Instruct"], 
             row["summary_by_SmolLM2-1.7B-Instruct-summarizer"]]
             )
    ) == 1:
        identicals.append(True)
    else:
        identicals.append(False)
        
    #print(row["summary_by_SmolLM2-360M-Instruct-summarizer"])
    #print(row["summary_by_SmolLM2-360M-Instruct-summarizer"])


all(identicals)


ls = ["The conversation. Is center", "The conversation. Is center", "The Conversation. Is center"]
len(set(ls))



